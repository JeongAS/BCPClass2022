{
  "nbformat": 4,
  "nbformat_minor": 0,
  "metadata": {
    "colab": {
      "name": "BCPwee1p.ipynb",
      "provenance": [],
      "authorship_tag": "ABX9TyPH+NqLSXYTbzL4EypM1jFG",
      "include_colab_link": true
    },
    "kernelspec": {
      "name": "python3",
      "display_name": "Python 3"
    },
    "language_info": {
      "name": "python"
    }
  },
  "cells": [
    {
      "cell_type": "markdown",
      "metadata": {
        "id": "view-in-github",
        "colab_type": "text"
      },
      "source": [
        "<a href=\"https://colab.research.google.com/github/JeongAS/BCPClass2022/blob/main/BCPwee1p.ipynb\" target=\"_parent\"><img src=\"https://colab.research.google.com/assets/colab-badge.svg\" alt=\"Open In Colab\"/></a>"
      ]
    },
    {
      "cell_type": "markdown",
      "source": [
        "# 실습"
      ],
      "metadata": {
        "id": "xdhCwAQJAA5t"
      }
    },
    {
      "cell_type": "markdown",
      "source": [
        "hello_1.py"
      ],
      "metadata": {
        "id": "eW3UlSYoAZoq"
      }
    },
    {
      "cell_type": "code",
      "execution_count": 3,
      "metadata": {
        "colab": {
          "base_uri": "https://localhost:8080/"
        },
        "id": "sIur2HuE-yA-",
        "outputId": "191b59f9-2314-413d-b25d-ab8c4c3b102f"
      },
      "outputs": [
        {
          "output_type": "stream",
          "name": "stdout",
          "text": [
            "Hello World\n"
          ]
        }
      ],
      "source": [
        "print('Hello World')"
      ]
    },
    {
      "cell_type": "code",
      "source": [
        "print('헬로 월드')"
      ],
      "metadata": {
        "colab": {
          "base_uri": "https://localhost:8080/"
        },
        "id": "CUH8MqqcAjwW",
        "outputId": "1d7b8569-48d3-4b06-a8d7-7b4e9e40c11f"
      },
      "execution_count": 4,
      "outputs": [
        {
          "output_type": "stream",
          "name": "stdout",
          "text": [
            "헬로 월드\n"
          ]
        }
      ]
    },
    {
      "cell_type": "markdown",
      "source": [
        "hello_2.py"
      ],
      "metadata": {
        "id": "L81QPfZXAkt1"
      }
    },
    {
      "cell_type": "code",
      "source": [
        "print('Hello World')\n",
        "print('Hello World')"
      ],
      "metadata": {
        "colab": {
          "base_uri": "https://localhost:8080/"
        },
        "id": "AawDDzoyBN9V",
        "outputId": "dd5f450b-965b-493c-dea3-e296173a9001"
      },
      "execution_count": 6,
      "outputs": [
        {
          "output_type": "stream",
          "name": "stdout",
          "text": [
            "Hello World\n",
            "Hello World\n"
          ]
        }
      ]
    },
    {
      "cell_type": "markdown",
      "source": [
        "hello_3.py"
      ],
      "metadata": {
        "id": "59yjBsqHBc5a"
      }
    },
    {
      "cell_type": "code",
      "source": [
        "def DoubleHello():\n",
        "  print('Hello World')\n",
        "  print('Hello World')\n",
        "\n",
        "DoubleHello()"
      ],
      "metadata": {
        "colab": {
          "base_uri": "https://localhost:8080/"
        },
        "id": "gKZYQtt8BSb8",
        "outputId": "6ecce494-f3ff-44b9-e060-e0dde346d631"
      },
      "execution_count": 7,
      "outputs": [
        {
          "output_type": "stream",
          "name": "stdout",
          "text": [
            "Hello World\n",
            "Hello World\n"
          ]
        }
      ]
    },
    {
      "cell_type": "markdown",
      "source": [
        "hello_4.py"
      ],
      "metadata": {
        "id": "HiN3GqndB5S1"
      }
    },
    {
      "cell_type": "code",
      "source": [
        "!pip install import_ipynb"
      ],
      "metadata": {
        "colab": {
          "base_uri": "https://localhost:8080/"
        },
        "id": "hxuzM8SJBQmN",
        "outputId": "c18d283d-1241-455e-e80c-b8eae6fa3a54"
      },
      "execution_count": 8,
      "outputs": [
        {
          "output_type": "stream",
          "name": "stdout",
          "text": [
            "Collecting import_ipynb\n",
            "  Downloading import-ipynb-0.1.3.tar.gz (4.0 kB)\n",
            "Building wheels for collected packages: import-ipynb\n",
            "  Building wheel for import-ipynb (setup.py) ... \u001b[?25l\u001b[?25hdone\n",
            "  Created wheel for import-ipynb: filename=import_ipynb-0.1.3-py3-none-any.whl size=2975 sha256=31331679c216374fd383f06a0a6f294d217d6c20e84c3028a4a28e03910f1132\n",
            "  Stored in directory: /root/.cache/pip/wheels/b1/5e/dc/79780689896a056199b0b9f24471e3ee184fbd816df355d5f0\n",
            "Successfully built import-ipynb\n",
            "Installing collected packages: import-ipynb\n",
            "Successfully installed import-ipynb-0.1.3\n"
          ]
        }
      ]
    },
    {
      "cell_type": "code",
      "source": [
        "import import_ipynb"
      ],
      "metadata": {
        "id": "lwLR-gbhDME8"
      },
      "execution_count": 9,
      "outputs": []
    },
    {
      "cell_type": "code",
      "source": [
        "from google.colab import drive\n",
        "drive.mount('/content/drive')"
      ],
      "metadata": {
        "colab": {
          "base_uri": "https://localhost:8080/"
        },
        "id": "KgD7DF6XDW-l",
        "outputId": "243ce828-f83f-4429-980b-13cdba8f4b89"
      },
      "execution_count": 10,
      "outputs": [
        {
          "output_type": "stream",
          "name": "stdout",
          "text": [
            "Mounted at /content/drive\n"
          ]
        }
      ]
    },
    {
      "cell_type": "code",
      "source": [
        "!pwd"
      ],
      "metadata": {
        "colab": {
          "base_uri": "https://localhost:8080/"
        },
        "id": "p1gDDSWSEFG0",
        "outputId": "1262591c-c286-42ee-c4ec-468e2efda9a8"
      },
      "execution_count": 11,
      "outputs": [
        {
          "output_type": "stream",
          "name": "stdout",
          "text": [
            "/content\n"
          ]
        }
      ]
    },
    {
      "cell_type": "code",
      "source": [
        "%cd drive/My\\ Drive/Colab Notebooks"
      ],
      "metadata": {
        "colab": {
          "base_uri": "https://localhost:8080/"
        },
        "id": "cm6Q5O7tEPic",
        "outputId": "7ced41bc-3df3-471e-ba7f-a22d7388f43b"
      },
      "execution_count": 12,
      "outputs": [
        {
          "output_type": "stream",
          "name": "stdout",
          "text": [
            "/content/drive/My Drive/Colab Notebooks\n"
          ]
        }
      ]
    },
    {
      "cell_type": "code",
      "source": [
        "!pwd"
      ],
      "metadata": {
        "colab": {
          "base_uri": "https://localhost:8080/"
        },
        "id": "NqrXJkZmElNb",
        "outputId": "e1535cf4-047a-47f1-ab57-ee650c294f25"
      },
      "execution_count": 13,
      "outputs": [
        {
          "output_type": "stream",
          "name": "stdout",
          "text": [
            "/content/drive/MyDrive/Colab Notebooks\n"
          ]
        }
      ]
    },
    {
      "cell_type": "code",
      "source": [
        "ls"
      ],
      "metadata": {
        "colab": {
          "base_uri": "https://localhost:8080/"
        },
        "id": "HM0XCBoTEuoM",
        "outputId": "f0177f2d-839d-47f9-d7a5-c66673020759"
      },
      "execution_count": 14,
      "outputs": [
        {
          "output_type": "stream",
          "name": "stdout",
          "text": [
            "'BCP1week (1).ipynb'   Chapter01_02.ipynb       Untitled\n",
            " BCP1week.ipynb        Chapter_03.ipynb         Untitled0.ipynb\n",
            " BCPwee1p.ipynb       'myFunctions (1).ipynb'  'Untitled (1)'\n",
            " BCPweek2.ipynb        myFunctions.ipynb\n"
          ]
        }
      ]
    },
    {
      "cell_type": "markdown",
      "source": [
        "hello_4.py"
      ],
      "metadata": {
        "id": "xw2syaY7FFT5"
      }
    },
    {
      "cell_type": "code",
      "source": [
        "import myFunctions\n",
        "\n",
        "myFunctions.DoubleHello()"
      ],
      "metadata": {
        "colab": {
          "base_uri": "https://localhost:8080/"
        },
        "id": "tBHjg-dUE_m1",
        "outputId": "b7390708-62ce-4fc8-93d8-e544c48226ef"
      },
      "execution_count": 16,
      "outputs": [
        {
          "output_type": "stream",
          "name": "stdout",
          "text": [
            "Hello World!\n",
            "Hello World!\n"
          ]
        }
      ]
    },
    {
      "cell_type": "markdown",
      "source": [
        "roundEx.py"
      ],
      "metadata": {
        "id": "TBVulUpFKB5c"
      }
    },
    {
      "cell_type": "code",
      "source": [
        "# ------------import statements\n",
        "import math\n",
        "\n",
        "# Function definitions\n",
        "def DoubleHello():\n",
        "  print('Hello World')\n",
        "  print('Hello World')\n",
        "\n",
        "\n",
        "# main program\n",
        "ceil_result = math.ceil(3.41)\n",
        "print(ceil_result)\n",
        "DoubleHello()"
      ],
      "metadata": {
        "colab": {
          "base_uri": "https://localhost:8080/"
        },
        "id": "J-7ch2CUKFOv",
        "outputId": "b7f6f2b3-8d14-4b2f-82dc-623a2b49c53c"
      },
      "execution_count": 18,
      "outputs": [
        {
          "output_type": "stream",
          "name": "stdout",
          "text": [
            "4\n",
            "Hello World\n",
            "Hello World\n"
          ]
        }
      ]
    }
  ]
}